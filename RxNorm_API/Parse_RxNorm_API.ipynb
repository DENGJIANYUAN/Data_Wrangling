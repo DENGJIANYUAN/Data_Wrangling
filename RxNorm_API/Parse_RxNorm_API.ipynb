{
 "cells": [
  {
   "cell_type": "markdown",
   "metadata": {},
   "source": [
    "# Import library(s)"
   ]
  },
  {
   "cell_type": "code",
   "execution_count": 1,
   "metadata": {},
   "outputs": [],
   "source": [
    "import numpy as np\n",
    "import pandas as pd\n",
    "import requests\n",
    "import operator\n",
    "import matplotlib.pyplot as plt"
   ]
  },
  {
   "cell_type": "markdown",
   "metadata": {},
   "source": [
    "# Play with r.json()--the json decoding function"
   ]
  },
  {
   "cell_type": "code",
   "execution_count": 2,
   "metadata": {},
   "outputs": [],
   "source": [
    "# Link to API and get the version of .json file\n",
    "# r = requests.get(\"https://rxnav.nlm.nih.gov/REST/version.json\")\n",
    "# r.json()"
   ]
  },
  {
   "cell_type": "code",
   "execution_count": 3,
   "metadata": {},
   "outputs": [],
   "source": [
    "# retrieve a specific drug by its NDC id\n",
    "# r = requests.get(\"https://rxnav.nlm.nih.gov/REST/rxcui.json?idtype=NDC&id=11523-7020-1\")\n",
    "# r.json()"
   ]
  },
  {
   "cell_type": "code",
   "execution_count": 4,
   "metadata": {},
   "outputs": [],
   "source": [
    "# retrieve a specific drug by its name\n",
    "# note that change another name, Plavix, r.json() also returns an rxnormId\n",
    "# r = requests.get(\"https://rxnav.nlm.nih.gov/REST/rxcui.json?name=morphine\")#liptor\n",
    "# r.json()"
   ]
  },
  {
   "cell_type": "code",
   "execution_count": 5,
   "metadata": {},
   "outputs": [],
   "source": [
    "# retrieve a specific drug's class\n",
    "# r = requests.get(\"https://rxnav.nlm.nih.gov/REST/rxclass/class/byDrugName.json?drugName=metformin&relaSource=MEDRT\")\n",
    "# r.json()"
   ]
  },
  {
   "cell_type": "code",
   "execution_count": 6,
   "metadata": {},
   "outputs": [],
   "source": [
    "# retrieve all info for a specific drug by its rxnormId\n",
    "# r = requests.get(\"https://rxnav.nlm.nih.gov/REST/rxcui/7052/allProperties.json?prop=all\")\n",
    "# r.json()"
   ]
  },
  {
   "cell_type": "markdown",
   "metadata": {},
   "source": [
    "# Read data"
   ]
  },
  {
   "cell_type": "code",
   "execution_count": 7,
   "metadata": {},
   "outputs": [],
   "source": [
    "# .csv file and the .py file in the same directory\n",
    "# data = pd.read_csv('./drugs.csv')"
   ]
  },
  {
   "cell_type": "markdown",
   "metadata": {},
   "source": [
    "# Get a glance at the dataframe"
   ]
  },
  {
   "cell_type": "code",
   "execution_count": 8,
   "metadata": {
    "scrolled": true
   },
   "outputs": [],
   "source": [
    "# # list first 10 rows of the dataframe\n",
    "# data.head(10)"
   ]
  },
  {
   "cell_type": "markdown",
   "metadata": {},
   "source": [
    "# Print dataframe headers for further processing"
   ]
  },
  {
   "cell_type": "code",
   "execution_count": 9,
   "metadata": {},
   "outputs": [],
   "source": [
    "# # list data headers\n",
    "# list(data)"
   ]
  },
  {
   "cell_type": "markdown",
   "metadata": {},
   "source": [
    "# Start retrieval with generic name and brand name respectively"
   ]
  },
  {
   "cell_type": "markdown",
   "metadata": {},
   "source": [
    "## Extract the generic_name column"
   ]
  },
  {
   "cell_type": "code",
   "execution_count": 10,
   "metadata": {},
   "outputs": [],
   "source": [
    "# extract the column of generic_name of drugs \n",
    "# find out the topNum most frequent generic names and their freqs\n",
    "generic = data.groupby('generic_name').size()\n",
    "freqs, names = generic.values, generic.keys()\n",
    "freqs_sorted, names_sorted = zip(*sorted(zip(freqs, names), reverse=True))\n",
    "topNum = 10\n",
    "for i in range(topNum):\n",
    "    print('Top',topNum,'Generic names',names_sorted[i],'Frequency(ies)',freqs_sorted[i])"
   ]
  },
  {
   "cell_type": "markdown",
   "metadata": {},
   "source": [
    "## Retrieve drugs in RxNorm API by their generic names"
   ]
  },
  {
   "cell_type": "code",
   "execution_count": 11,
   "metadata": {},
   "outputs": [],
   "source": [
    "# retrieve info by generic names\n",
    "# note that json() returns a dictionary\n",
    "num_Total = 0\n",
    "num_Match = 0\n",
    "num_ExactM = 0\n",
    "for index in range(len(generic.keys())):\n",
    "    name = generic.keys()[index]\n",
    "    r = requests.get(\"https://rxnav.nlm.nih.gov/REST/rxcui.json?name=\" + name) \n",
    "    name_RxNorm = r.json().get('idGroup').get('name')\n",
    "    id_RxNorm = r.json().get('idGroup').get('rxnormId')\n",
    "    #print('Generic name: ',name_RxNorm,' RxNormId',id_RxNorm)\n",
    "    number = generic.values[index]\n",
    "#     print(name, ' number: ', number)\n",
    "    if name_RxNorm == name:\n",
    "        num_Match = num_Match + number\n",
    "        if id_RxNorm != None:\n",
    "            num_ExactM = num_ExactM + number\n",
    "     \n",
    "    num_Total = num_Total + number\n",
    "\n",
    "percent_Match = num_Match / num_Total * 100\n",
    "percent_ExactM = num_ExactM / num_Total * 100\n",
    "# print(\"Percent of having a match in RxNorm RESTful API by generic names: \",percent_Match,'%')\n",
    "# print(\"Percent of having an exact match in RxNorm RESTful API by generic names: \",percent_ExactM,'%')\n",
    "# print(\"Percent of having an approximate match in RxNorm RESTful API by generic names: \",percent_Match-percent_ExactM,'%')"
   ]
  },
  {
   "cell_type": "markdown",
   "metadata": {},
   "source": [
    "## Retrieve drug class in RxNorm API by generic names"
   ]
  },
  {
   "cell_type": "markdown",
   "metadata": {},
   "source": [
    "Try another address not just 'maytreat' for drug classes retrieval.\n",
    "see: https://rxnav.nlm.nih.gov/REST/rxclass/class/byDrugName.json?drugName=clopidogrel&relaSource=MEDRT"
   ]
  },
  {
   "cell_type": "code",
   "execution_count": 12,
   "metadata": {},
   "outputs": [],
   "source": [
    "# Use the generic names for retrieval firstly since it leads to higher rate of exact match\n",
    "classInfo_Exa = []\n",
    "classInfo_App = []\n",
    "for index in range(len(generic.keys())):\n",
    "    name = generic.keys()[index]\n",
    "    r = requests.get(\"https://rxnav.nlm.nih.gov/REST/rxcui.json?name=\" + name) \n",
    "    name_RxNorm = r.json().get('idGroup').get('name')\n",
    "    # retrieve drug class for drugs with exact match\n",
    "    id_RxNorm = r.json().get('idGroup').get('rxnormId')\n",
    "    drugName = None\n",
    "    classType = list()\n",
    "    drugClass = list()\n",
    "    if id_RxNorm is not None: #indicator for exact match\n",
    "        url = \"https://rxnav.nlm.nih.gov/REST/rxclass/class/byDrugName.json?drugName=\"+name_RxNorm+\"&relaSource=MEDRT\"#&relas=may_treat\n",
    "        r = requests.get(url)\n",
    "        if r.json().get('rxclassDrugInfoList') is not None:\n",
    "            if r.json().get('rxclassDrugInfoList').get('rxclassDrugInfo') is not None:\n",
    "                # use a var to hold the list of drug classes info\n",
    "                var = r.json().get('rxclassDrugInfoList').get('rxclassDrugInfo')\n",
    "                for item in var:\n",
    "                    subTuple = (name_RxNorm,item.get('rxclassMinConceptItem').get('className'),item.get('rxclassMinConceptItem').get('classType')) \n",
    "                    classInfo_Exa.append(subTuple)\n",
    "        else:\n",
    "            subTuple = (name_RxNorm,'NA','NA')\n",
    "            classInfo_Exa.append(subTuple)\n",
    "\n",
    "    else:\n",
    "        url = \"https://rxnav.nlm.nih.gov/REST/rxclass/class/byDrugName.json?drugName=\"+name+\"&relaSource=MEDRT\"#&relas=may_treat\n",
    "        r = requests.get(url)\n",
    "        if r.json().get('rxclassDrugInfoList') is not None:\n",
    "            if r.json().get('rxclassDrugInfoList').get('rxclassDrugInfo') is not None:\n",
    "                # use a var to hold the list of drug classes info\n",
    "                var = r.json().get('rxclassDrugInfoList').get('rxclassDrugInfo')\n",
    "                for item in var:\n",
    "                    subTuple = (name,item.get('rxclassMinConceptItem').get('className'),item.get('rxclassMinConceptItem').get('classType'))\n",
    "                    classInfo_App.append(subTuple)\n",
    "        else:\n",
    "            subTuple = (name_RxNorm,'NA','NA')\n",
    "            classInfo_App.append(subTuple)"
   ]
  },
  {
   "cell_type": "code",
   "execution_count": 17,
   "metadata": {},
   "outputs": [],
   "source": [
    "# print(classInfo_Exa)"
   ]
  },
  {
   "cell_type": "markdown",
   "metadata": {},
   "source": [
    "## Count frequency of drug class by generic names"
   ]
  },
  {
   "cell_type": "markdown",
   "metadata": {},
   "source": [
    "RxClass includes six sets of NDFRT drug classes:\n",
    "1. Established Pharmacologic Classes (EPC)\n",
    "2. Chemical Structure (Chem)\n",
    "3. Disease\n",
    "4. Mechanism of Action (MoA)\n",
    "5. Physiologic Effect (PE)\n",
    "6. Pharmacokinetics (PK)"
   ]
  },
  {
   "cell_type": "code",
   "execution_count": 16,
   "metadata": {},
   "outputs": [],
   "source": [
    "# count the frequency of drug class occurence\n",
    "numClassType = 6\n",
    "stats = {'EPC':{},'CHEM':{},'DISEASE':{},'MOA':{},'PE':{},'PK':{} }\n",
    "\n",
    "for subTuple in classInfo_Exa:\n",
    "#     print(subTuple)\n",
    "    subDict = stats[subTuple[2]]\n",
    "    if subTuple[1] in subDict.keys():\n",
    "        subDict[subTuple[1]] += generic.get(subTuple[0])\n",
    "    else:\n",
    "        subDict[subTuple[1]] = generic.get(subTuple[0])\n",
    "\n",
    "# print(stats)\n",
    "\n",
    "#plot\n",
    "plt.figure(figsize=(15, 8))\n",
    "for i, key in enumerate(stats.keys()):\n",
    "    print (i+1,'.',key)\n",
    "    if len(stats[key]) == 0:\n",
    "        continue\n",
    "    x = list(stats[key].keys())\n",
    "    y = list(stats[key].values())\n",
    "    freqs_sorted, names_sorted = zip(*sorted(zip(y, x), reverse=True))\n",
    "    topNum = min(10, len(x))\n",
    "    for j in range(topNum):\n",
    "        print('Top',j+1,'Class',names_sorted[j],'Frequency(ies)',freqs_sorted[j])\n",
    "\n",
    "    plt.subplot(2, 3, i+1)\n",
    "    plt.plot(list(range(len(y))), y, 'x')"
   ]
  },
  {
   "cell_type": "markdown",
   "metadata": {},
   "source": [
    "## Extract the brand_name column"
   ]
  },
  {
   "cell_type": "code",
   "execution_count": 13,
   "metadata": {},
   "outputs": [],
   "source": [
    "# extract the column of brand_name of drugs \n",
    "# find out the topNum most frequent brand names and their freqs\n",
    "brand = data.groupby('brand_name').size()\n",
    "freqs, names = brand.values, brand.keys()\n",
    "freqs_sorted, names_sorted = zip(*sorted(zip(freqs, names), reverse=True))\n",
    "topNum = 10\n",
    "for i in range(topNum):\n",
    "    print('Top',topNum,'Brand names',names_sorted[i],'Frequency(ies)',freqs_sorted[i])"
   ]
  },
  {
   "cell_type": "markdown",
   "metadata": {},
   "source": [
    "## Retrieve drugs in RxNorm API by their brand names"
   ]
  },
  {
   "cell_type": "code",
   "execution_count": 14,
   "metadata": {},
   "outputs": [],
   "source": [
    "# retrieve info by brand names\n",
    "# note that json() returns a dictionary\n",
    "num_Total = 0\n",
    "num_Match = 0\n",
    "num_ExactM = 0\n",
    "for index in range(len(brand.keys())):\n",
    "    name = brand.keys()[index]\n",
    "    r = requests.get(\"https://rxnav.nlm.nih.gov/REST/rxcui.json?name=\" + name) \n",
    "    name_RxNorm = r.json().get('idGroup').get('name')\n",
    "    id_RxNorm = r.json().get('idGroup').get('rxnormId')\n",
    "    #print('Brand name: ',name_RxNorm,' RxNormId',id_RxNorm)\n",
    "    number = brand.values[index]\n",
    "    #print(name, ' number: ', number)\n",
    "    if name_RxNorm == name:\n",
    "        num_Match = num_Match + number\n",
    "        if id_RxNorm != None:\n",
    "            num_ExactM = num_ExactM + number\n",
    "     \n",
    "    num_Total = num_Total + number\n",
    "\n",
    "percent_Match = num_Match / num_Total * 100\n",
    "percent_ExactM = num_ExactM / num_Total * 100\n",
    "# print(\"Percent of having a match in RxNorm RESTful API by brand names: \",percent_Match,'%')\n",
    "# print(\"Percent of having an exact match in RxNorm RESTful API by brand names: \",percent_ExactM,'%')\n",
    "# print(\"Percent of having an approximate match in RxNorm RESTful API by brand names: \",percent_Match-percent_ExactM,'%')"
   ]
  },
  {
   "cell_type": "markdown",
   "metadata": {},
   "source": [
    "## Retrieve drug class in RxNorm API by brand names"
   ]
  },
  {
   "cell_type": "code",
   "execution_count": 129,
   "metadata": {},
   "outputs": [],
   "source": [
    "# Use the brand names for retrieval firstly since it leads to higher rate of exact match\n",
    "classInfo_Exa = []\n",
    "classInfo_App = []\n",
    "for index in range(len(brand.keys())):\n",
    "    name = brand.keys()[index]\n",
    "    r = requests.get(\"https://rxnav.nlm.nih.gov/REST/rxcui.json?name=\" + name) \n",
    "    name_RxNorm = r.json().get('idGroup').get('name')\n",
    "    # retrieve drug class for drugs with exact match\n",
    "    id_RxNorm = r.json().get('idGroup').get('rxnormId')\n",
    "    drugName = None\n",
    "    classType = list()\n",
    "    drugClass = list()\n",
    "    if id_RxNorm is not None: #indicator for exact match\n",
    "        url = \"https://rxnav.nlm.nih.gov/REST/rxclass/class/byDrugName.json?drugName=\"+name_RxNorm+\"&relaSource=MEDRT\"#&relas=may_treat\n",
    "        r = requests.get(url)\n",
    "        if r.json().get('rxclassDrugInfoList') is not None:\n",
    "            if r.json().get('rxclassDrugInfoList').get('rxclassDrugInfo') is not None:\n",
    "                # use a var to hold the list of drug classes info\n",
    "                var = r.json().get('rxclassDrugInfoList').get('rxclassDrugInfo')\n",
    "                for item in var:\n",
    "                    subTuple = (name_RxNorm,item.get('rxclassMinConceptItem').get('className'),item.get('rxclassMinConceptItem').get('classType')) \n",
    "                    classInfo_Exa.append(subTuple)\n",
    "        else:\n",
    "            subTuple = (name_RxNorm,'NA','NA')\n",
    "            classInfo_Exa.append(subTuple)\n",
    "\n",
    "    else:\n",
    "        url = \"https://rxnav.nlm.nih.gov/REST/rxclass/class/byDrugName.json?drugName=\"+name+\"&relaSource=MEDRT\"#&relas=may_treat\n",
    "        r = requests.get(url)\n",
    "        if r.json().get('rxclassDrugInfoList') is not None:\n",
    "            if r.json().get('rxclassDrugInfoList').get('rxclassDrugInfo') is not None:\n",
    "                # use a var to hold the list of drug classes info\n",
    "                var = r.json().get('rxclassDrugInfoList').get('rxclassDrugInfo')\n",
    "                for item in var:\n",
    "                    subTuple = (name,item.get('rxclassMinConceptItem').get('className'),item.get('rxclassMinConceptItem').get('classType'))\n",
    "                    classInfo_App.append(subTuple)\n",
    "        else:\n",
    "            subTuple = (name_RxNorm,'NA','NA')\n",
    "            classInfo_App.append(subTuple)"
   ]
  },
  {
   "cell_type": "markdown",
   "metadata": {},
   "source": [
    "## Count frequency of drug class for drugs with exact match by brand names"
   ]
  },
  {
   "cell_type": "markdown",
   "metadata": {},
   "source": [
    "RxClass includes six sets of NDFRT drug classes:\n",
    "1. Established Pharmacologic Classes (EPC)\n",
    "2. Chemical Structure (Chem)\n",
    "3. Disease\n",
    "4. Mechanism of Action (MoA)\n",
    "5. Physiologic Effect (PE)\n",
    "6. Pharmacokinetics (PK)"
   ]
  },
  {
   "cell_type": "code",
   "execution_count": 15,
   "metadata": {},
   "outputs": [],
   "source": [
    "# count the frequency of drug class occurence\n",
    "numClassType = 6\n",
    "stats = {'EPC':{},'CHEM':{},'DISEASE':{},'MOA':{},'PE':{},'PK':{} }\n",
    "\n",
    "for subTuple in classInfo_Exa:\n",
    "#     print(subTuple)\n",
    "    subDict = stats[subTuple[2]]\n",
    "    if subTuple[1] in subDict.keys():\n",
    "        subDict[subTuple[1]] += brand.get(subTuple[0])\n",
    "    else:\n",
    "        subDict[subTuple[1]] = brand.get(subTuple[0])\n",
    "\n",
    "# print(stats)\n",
    "\n",
    "#plot\n",
    "plt.figure(figsize=(15, 8))\n",
    "for i, key in enumerate(stats.keys()):\n",
    "    print (i+1,'.',key)\n",
    "    if len(stats[key]) == 0:\n",
    "        continue\n",
    "    x = list(stats[key].keys())\n",
    "    y = list(stats[key].values())\n",
    "    freqs_sorted, names_sorted = zip(*sorted(zip(y, x), reverse=True))\n",
    "    topNum = min(10, len(x))\n",
    "    for j in range(topNum):\n",
    "        print('Top',j+1,'Class',names_sorted[j],'Frequency(ies)',freqs_sorted[j])\n",
    "\n",
    "    plt.subplot(2, 3, i+1)\n",
    "    plt.plot(list(range(len(y))), y, 'x')"
   ]
  },
  {
   "cell_type": "code",
   "execution_count": null,
   "metadata": {},
   "outputs": [],
   "source": []
  }
 ],
 "metadata": {
  "kernelspec": {
   "display_name": "Python 3",
   "language": "python",
   "name": "python3"
  },
  "language_info": {
   "codemirror_mode": {
    "name": "ipython",
    "version": 3
   },
   "file_extension": ".py",
   "mimetype": "text/x-python",
   "name": "python",
   "nbconvert_exporter": "python",
   "pygments_lexer": "ipython3",
   "version": "3.7.6"
  }
 },
 "nbformat": 4,
 "nbformat_minor": 2
}
